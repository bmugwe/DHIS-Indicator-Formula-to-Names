{
 "cells": [
  {
   "cell_type": "code",
   "execution_count": 190,
   "metadata": {},
   "outputs": [],
   "source": [
    "import pandas as pd"
   ]
  },
  {
   "cell_type": "code",
   "execution_count": 191,
   "metadata": {},
   "outputs": [],
   "source": [
    "dataelements = pd.read_excel('JPHES database structure.xlsx', sheet_name='dataelement')\n",
    "period = pd.read_excel('JPHES database structure.xlsx', sheet_name='jphes period')\n",
    "orgunit = pd.read_excel('JPHES database structure.xlsx', sheet_name='org_units')\n",
    "categorycombo = pd.read_excel('JPHES database structure.xlsx', sheet_name='categoryoptioncombo')"
   ]
  },
  {
   "cell_type": "code",
   "execution_count": 192,
   "metadata": {},
   "outputs": [
    {
     "name": "stderr",
     "output_type": "stream",
     "text": [
      "/tmp/ipykernel_37754/4160683908.py:1: DtypeWarning: Columns (8) have mixed types. Specify dtype option on import or set low_memory=False.\n",
      "  data705 = pd.read_csv(\"MOH705/MOH 705 A Outpatient summary < 5 years Revised 2020 202310 - 202409.csv \")\n",
      "/tmp/ipykernel_37754/4160683908.py:2: DtypeWarning: Columns (5,8) have mixed types. Specify dtype option on import or set low_memory=False.\n",
      "  data710 = pd.read_csv(\"MOH710/MOH 710 Vaccines and Immunisation Rev 2020 202310.csv \")\n",
      "/tmp/ipykernel_37754/4160683908.py:3: DtypeWarning: Columns (8) have mixed types. Specify dtype option on import or set low_memory=False.\n",
      "  data711 = pd.read_csv(\"MOH711/MOH 711 Integrated Summary Report 202310 - 202409.csv \")\n"
     ]
    }
   ],
   "source": [
    "data705 = pd.read_csv(\"MOH705/MOH 705 A Outpatient summary < 5 years Revised 2020 202310 - 202409.csv \")\n",
    "data710 = pd.read_csv(\"MOH710/MOH 710 Vaccines and Immunisation Rev 2020 202310.csv \")\n",
    "data711 = pd.read_csv(\"MOH711/MOH 711 Integrated Summary Report 202310 - 202409.csv \")"
   ]
  },
  {
   "cell_type": "code",
   "execution_count": 193,
   "metadata": {},
   "outputs": [],
   "source": [
    "def renameColumns(frame, filename):\n",
    "    renamedframe = frame.rename(columns={\"dataelement\": \"uid\", \"period\": \"perioduid\", \"orgunit\": \"orguid\", \"categoryoptioncombo\": \"catuid\", \"attributeoptioncombo\": \"attributeoptioncomboid\", })\n",
    "    merged_file_1 = pd.merge(renamedframe, dataelements, on='uid', how='left')\n",
    "    merged_file_2 = pd.merge(merged_file_1, period, on='perioduid', how='left')\n",
    "    merged_file_3 = pd.merge(merged_file_2, orgunit, on='orguid', how='left')\n",
    "    merged_file_4 = pd.merge(merged_file_3, categorycombo, on='catuid', how='left')\n",
    "    merged_file_4['created'] = merged_file_4['lastupdated']\n",
    "    merged_file_4['attributeoptioncomboid'] = 15\n",
    "    \n",
    "    datatopost = merged_file_4[['dataelementid', 'periodid', 'sourceid', 'categoryoptioncomboid', 'attributeoptioncomboid', 'value', 'storedby', 'created', 'lastupdated', 'comment', 'followup', 'deleted']]\n",
    "    \n",
    "    datatopost['sourceid'] = datatopost['sourceid'].fillna(value=0).astype('Int64')  # Using Int64 for nullable integer type\n",
    "    datatopost['dataelementid'] = datatopost['dataelementid'].fillna(value=0).astype('Int64')\n",
    "    \n",
    "    datatopost_dd = datatopost.drop_duplicates(subset=['dataelementid', 'periodid', 'sourceid', 'categoryoptioncomboid', 'attributeoptioncomboid',])\n",
    "    datatopost_dd_filter = datatopost_dd[datatopost_dd['sourceid'] != 0]\n",
    "    datatopost_dd_filter_1 = datatopost_dd_filter[(datatopost_dd_filter['dataelementid'] != '') & (datatopost_dd_filter['dataelementid'].notnull()) & (datatopost_dd_filter['dataelementid'] != 0 )]\n",
    "    datatopost_dd_filter_2 = datatopost_dd_filter_1[(datatopost_dd_filter_1['categoryoptioncomboid'] != '') & (datatopost_dd_filter_1['categoryoptioncomboid'].notnull())]\n",
    "    datatopost_dd_filter_2['categoryoptioncomboid'] = datatopost_dd_filter_2['categoryoptioncomboid'].astype('Int64')\n",
    "    \n",
    "    datatopost_dd_filter_2.to_csv('output/'+filename, index=False)\n",
    "    \n",
    "    # return merged_file_4"
   ]
  },
  {
   "cell_type": "code",
   "execution_count": 194,
   "metadata": {},
   "outputs": [
    {
     "data": {
      "text/html": [
       "<div>\n",
       "<style scoped>\n",
       "    .dataframe tbody tr th:only-of-type {\n",
       "        vertical-align: middle;\n",
       "    }\n",
       "\n",
       "    .dataframe tbody tr th {\n",
       "        vertical-align: top;\n",
       "    }\n",
       "\n",
       "    .dataframe thead th {\n",
       "        text-align: right;\n",
       "    }\n",
       "</style>\n",
       "<table border=\"1\" class=\"dataframe\">\n",
       "  <thead>\n",
       "    <tr style=\"text-align: right;\">\n",
       "      <th></th>\n",
       "      <th>categoryoptioncomboid</th>\n",
       "      <th>catuid</th>\n",
       "    </tr>\n",
       "  </thead>\n",
       "  <tbody>\n",
       "    <tr>\n",
       "      <th>0</th>\n",
       "      <td>296</td>\n",
       "      <td>Evq43lpHFBO</td>\n",
       "    </tr>\n",
       "    <tr>\n",
       "      <th>1</th>\n",
       "      <td>297</td>\n",
       "      <td>zHSeMiszM8b</td>\n",
       "    </tr>\n",
       "    <tr>\n",
       "      <th>2</th>\n",
       "      <td>299</td>\n",
       "      <td>IhtLhkHwYrQ</td>\n",
       "    </tr>\n",
       "    <tr>\n",
       "      <th>3</th>\n",
       "      <td>300</td>\n",
       "      <td>G9dsIX6YwR6</td>\n",
       "    </tr>\n",
       "    <tr>\n",
       "      <th>4</th>\n",
       "      <td>404</td>\n",
       "      <td>s3wXi7AxrqM</td>\n",
       "    </tr>\n",
       "    <tr>\n",
       "      <th>...</th>\n",
       "      <td>...</td>\n",
       "      <td>...</td>\n",
       "    </tr>\n",
       "    <tr>\n",
       "      <th>285</th>\n",
       "      <td>20223340</td>\n",
       "      <td>F49AtJkTk7L</td>\n",
       "    </tr>\n",
       "    <tr>\n",
       "      <th>286</th>\n",
       "      <td>20257957</td>\n",
       "      <td>ZSn8rVqq53U</td>\n",
       "    </tr>\n",
       "    <tr>\n",
       "      <th>287</th>\n",
       "      <td>27471598</td>\n",
       "      <td>N64mGfAhoG4</td>\n",
       "    </tr>\n",
       "    <tr>\n",
       "      <th>288</th>\n",
       "      <td>27471830</td>\n",
       "      <td>RwQbTRmlJjh</td>\n",
       "    </tr>\n",
       "    <tr>\n",
       "      <th>289</th>\n",
       "      <td>15</td>\n",
       "      <td>HllvX50cXC0</td>\n",
       "    </tr>\n",
       "  </tbody>\n",
       "</table>\n",
       "<p>290 rows × 2 columns</p>\n",
       "</div>"
      ],
      "text/plain": [
       "     categoryoptioncomboid       catuid\n",
       "0                      296  Evq43lpHFBO\n",
       "1                      297  zHSeMiszM8b\n",
       "2                      299  IhtLhkHwYrQ\n",
       "3                      300  G9dsIX6YwR6\n",
       "4                      404  s3wXi7AxrqM\n",
       "..                     ...          ...\n",
       "285               20223340  F49AtJkTk7L\n",
       "286               20257957  ZSn8rVqq53U\n",
       "287               27471598  N64mGfAhoG4\n",
       "288               27471830  RwQbTRmlJjh\n",
       "289                     15  HllvX50cXC0\n",
       "\n",
       "[290 rows x 2 columns]"
      ]
     },
     "execution_count": 194,
     "metadata": {},
     "output_type": "execute_result"
    }
   ],
   "source": [
    "dataelements\n",
    "period\n",
    "orgunit\n",
    "data705\n",
    "categorycombo"
   ]
  },
  {
   "cell_type": "code",
   "execution_count": 195,
   "metadata": {},
   "outputs": [
    {
     "name": "stderr",
     "output_type": "stream",
     "text": [
      "/tmp/ipykernel_37754/473165489.py:12: SettingWithCopyWarning: \n",
      "A value is trying to be set on a copy of a slice from a DataFrame.\n",
      "Try using .loc[row_indexer,col_indexer] = value instead\n",
      "\n",
      "See the caveats in the documentation: https://pandas.pydata.org/pandas-docs/stable/user_guide/indexing.html#returning-a-view-versus-a-copy\n",
      "  datatopost['sourceid'] = datatopost['sourceid'].fillna(value=0).astype('Int64')  # Using Int64 for nullable integer type\n",
      "/tmp/ipykernel_37754/473165489.py:13: SettingWithCopyWarning: \n",
      "A value is trying to be set on a copy of a slice from a DataFrame.\n",
      "Try using .loc[row_indexer,col_indexer] = value instead\n",
      "\n",
      "See the caveats in the documentation: https://pandas.pydata.org/pandas-docs/stable/user_guide/indexing.html#returning-a-view-versus-a-copy\n",
      "  datatopost['dataelementid'] = datatopost['dataelementid'].fillna(value=0).astype('Int64')\n"
     ]
    }
   ],
   "source": [
    "# data705_merged = renameColumns(data705, \"MOH 705 A File.csv\")\n",
    "data710_merged = renameColumns(data710, \"MOH 710 A File.csv\")\n",
    "# data711_merged = renameColumns(data711, \"MOH 711 A File.csv\")\n"
   ]
  },
  {
   "cell_type": "code",
   "execution_count": 196,
   "metadata": {},
   "outputs": [],
   "source": [
    "data710_merged"
   ]
  }
 ],
 "metadata": {
  "kernelspec": {
   "display_name": "Python 3",
   "language": "python",
   "name": "python3"
  },
  "language_info": {
   "codemirror_mode": {
    "name": "ipython",
    "version": 3
   },
   "file_extension": ".py",
   "mimetype": "text/x-python",
   "name": "python",
   "nbconvert_exporter": "python",
   "pygments_lexer": "ipython3",
   "version": "3.12.3"
  }
 },
 "nbformat": 4,
 "nbformat_minor": 2
}
